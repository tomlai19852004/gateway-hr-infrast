{
 "cells": [
  {
   "cell_type": "code",
   "execution_count": 55,
   "source": [
    "import pandas as pd\r\n",
    "import requests\r\n",
    "import json\r\n",
    "from urllib.parse import urlencode"
   ],
   "outputs": [],
   "metadata": {
    "ExecuteTime": {
     "end_time": "2021-08-17T09:16:04.606186Z",
     "start_time": "2021-08-17T09:16:04.600172Z"
    }
   }
  },
  {
   "cell_type": "code",
   "execution_count": 56,
   "source": [
    "contact_url = \"https://api.hubapi.com/crm/v3/objects/contacts?\"\r\n",
    "params_dict = {\r\n",
    "    \"hapikey\":\"\",\r\n",
    "    \"limit\":100\r\n",
    "}\r\n",
    "contact_lst = []\r\n",
    "\r\n",
    "while True:\r\n",
    "    urlparams = urlencode(params_dict)\r\n",
    "    get_contact_url = contact_url + urlparams\r\n",
    "    response = requests.get(get_contact_url)\r\n",
    "    response_dict = json.loads(response.text)\r\n",
    "    contact_lst.extend(response_dict[\"results\"])\r\n",
    "    if \"paging\" in response_dict.keys():\r\n",
    "        params_dict[\"after\"] = response_dict[\"paging\"][\"next\"][\"after\"]\r\n",
    "    else:\r\n",
    "        break"
   ],
   "outputs": [],
   "metadata": {
    "ExecuteTime": {
     "end_time": "2021-08-17T09:16:16.908574Z",
     "start_time": "2021-08-17T09:16:08.047429Z"
    }
   }
  },
  {
   "cell_type": "code",
   "execution_count": 57,
   "source": [
    "contacts_dict = {}\r\n",
    "\r\n",
    "for eachD in contact_lst:\r\n",
    "    _id = eachD[\"id\"]\r\n",
    "    contacts_dict[_id] = {}\r\n",
    "    for each_key, each_value in eachD.items():\r\n",
    "        if each_key != \"id\":\r\n",
    "            if isinstance(each_value, dict):\r\n",
    "                for kk, vv in each_value.items():\r\n",
    "                    contacts_dict[_id].update({\r\n",
    "                        kk:str(vv)\r\n",
    "                    })\r\n",
    "            else:\r\n",
    "                contacts_dict[_id].update({\r\n",
    "                    each_key:str(each_value)\r\n",
    "                })"
   ],
   "outputs": [],
   "metadata": {
    "ExecuteTime": {
     "end_time": "2021-08-17T09:16:20.702199Z",
     "start_time": "2021-08-17T09:16:20.677235Z"
    }
   }
  },
  {
   "cell_type": "code",
   "execution_count": 58,
   "source": [
    "emailst = [value.get(\"email\").strip().lower() for value in contacts_dict.values()\r\n",
    "           if value.get(\"email\") != \"None\"]\r\n",
    "NAemailst = [key for key, value in contacts_dict.items()\r\n",
    "             if value.get(\"email\") == \"None\"]\r\n",
    "\r\n",
    "paramslst1 = list(zip([\"email\" for repetition in range(len(emailst))], emailst))\r\n",
    "paramslst2 = list(zip([\"vid\" for repetition in range(len(NAemailst))], NAemailst))\r\n",
    "\r\n",
    "groupby_100 = len(paramslst1)//100\r\n",
    "examine_exception_dict = {}\r\n",
    "alldicts = {}\r\n",
    "\r\n",
    "for each_g in range(groupby_100):\r\n",
    "    batchlst = paramslst1[each_g*100:each_g*100+100]\r\n",
    "    batchparams = urlencode(batchlst)\r\n",
    "    get_contact_by_emailst = (\"https://api.hubapi.com/contacts/v1/contact/emails/batch/?\"\r\n",
    "                              + batchparams)\r\n",
    "    response = requests.get(get_contact_by_emailst,\r\n",
    "                            params={\"hapikey\":\"\"})\r\n",
    "    if response.status_code == 200:\r\n",
    "        alldicts.update(json.loads(response.text))\r\n",
    "    else:\r\n",
    "        examine_exception_dict[str(each_g+1)+\"batch\"] = \"expection\"\r\n",
    "        \r\n",
    "    if each_g == (groupby_100-1):\r\n",
    "        batchlst = paramslst1[each_g*100::]\r\n",
    "        batchparams = urlencode(batchlst)\r\n",
    "        get_contact_by_emailst = (\"https://api.hubapi.com/contacts/v1/contact/emails/batch/?\"\r\n",
    "                                  + batchparams)\r\n",
    "        response = requests.get(get_contact_by_emailst,\r\n",
    "                                params={\"hapikey\":\"\"})\r\n",
    "        if response.status_code == 200:\r\n",
    "            alldicts.update(json.loads(response.text))\r\n",
    "        else:\r\n",
    "            examine_exception_dict[\"lastbatch\"] = \"expection\"\r\n",
    "            \r\n",
    "params = urlencode(paramslst2)\r\n",
    "get_contact_by_id = (\"https://api.hubapi.com/contacts/v1/contact/vids/batch/?\"\r\n",
    "                     + params)\r\n",
    "response = requests.get(get_contact_by_id,\r\n",
    "                        params={\"hapikey\":\"\"})\r\n",
    "if response.status_code == 200:\r\n",
    "    alldicts.update(json.loads(response.text))\r\n",
    "else:\r\n",
    "    examine_exception_dict[\"NAemailbatch\"] = \"exception\"\r\n",
    "    \r\n",
    "all_clients_properties_dict = {}\r\n",
    "\r\n",
    "for clientid in alldicts.keys():\r\n",
    "    client_properties_dict = alldicts.get(clientid)[\"properties\"]\r\n",
    "    for each_property in client_properties_dict.keys():\r\n",
    "        client_properties_dict[each_property] = str(\r\n",
    "            client_properties_dict[each_property].get(\"value\"))\r\n",
    "    all_clients_properties_dict[clientid] = client_properties_dict\r\n",
    "    \r\n",
    "all_clients_associatedcom_dict = {}\r\n",
    "\r\n",
    "for clientid in alldicts.keys():\r\n",
    "    all_clients_associatedcom_dict[clientid] = {}\r\n",
    "    each_association = alldicts[clientid].get(\"associated-company\")\r\n",
    "    if each_association != None:\r\n",
    "        if len(each_association.keys()) > 0:\r\n",
    "            for each_key, each_value in each_association.items():\r\n",
    "                if isinstance(each_value, dict):\r\n",
    "                    for kk, vv in each_value.items():\r\n",
    "                        all_clients_associatedcom_dict[clientid].update({\r\n",
    "                            kk:str(vv.get(\"value\"))\r\n",
    "                        })\r\n",
    "                else:\r\n",
    "                    all_clients_associatedcom_dict[clientid].update({\r\n",
    "                        each_key:str(each_value)\r\n",
    "                    })\r\n",
    "                    \r\n",
    "                    \r\n",
    "writer = pd.ExcelWriter(\"clientsRecords.xlsx\", engine=\"openpyxl\")\r\n",
    "pd.DataFrame(contacts_dict).T.to_excel(writer, sheet_name=\"Client Face\")\r\n",
    "pd.DataFrame(all_clients_properties_dict).T.to_excel(writer, sheet_name=\"Client Properties Profile\")\r\n",
    "pd.DataFrame(all_clients_associatedcom_dict).T.to_excel(writer, sheet_name=\"Client's Associated Company\")\r\n",
    "writer.save()"
   ],
   "outputs": [],
   "metadata": {
    "ExecuteTime": {
     "end_time": "2021-08-17T09:16:40.282833Z",
     "start_time": "2021-08-17T09:16:25.359786Z"
    }
   }
  }
 ],
 "metadata": {
  "kernelspec": {
   "display_name": "Python 3",
   "language": "python",
   "name": "python3"
  },
  "language_info": {
   "codemirror_mode": {
    "name": "ipython",
    "version": 3
   },
   "file_extension": ".py",
   "mimetype": "text/x-python",
   "name": "python",
   "nbconvert_exporter": "python",
   "pygments_lexer": "ipython3",
   "version": "3.8.8"
  }
 },
 "nbformat": 4,
 "nbformat_minor": 5
}